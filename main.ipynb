{
 "cells": [
  {
   "cell_type": "code",
   "execution_count": 5,
   "metadata": {},
   "outputs": [
    {
     "name": "stdout",
     "output_type": "stream",
     "text": [
      "__new__ da metaclass\n"
     ]
    }
   ],
   "source": [
    "# imports para todas as aulas\n",
    "from classe_produto_aula38 import Produto\n",
    "from basededados_aula40 import BaseDeDados\n",
    "from classes_aula41 import Escritor, Caneta, MaquinaDeEscrever\n",
    "from classes_aula42 import CarrinhoDeCompras, Produto\n",
    "from classes_aula43 import Cliente\n",
    "from classes_aula44 import *\n",
    "from classes_para_dados import *\n",
    "from classes_aula_metaclass import *"
   ]
  },
  {
   "cell_type": "code",
   "execution_count": null,
   "metadata": {},
   "outputs": [],
   "source": [
    "# AULA 35\n",
    "p1 = Pessoa('Gabriel', 24)\n",
    "p2 = Pessoa('Vitoria', 25)\n",
    "\n",
    "p1.falar('POO')\n",
    "p2.falar('Moda')\n",
    "print(p1.get_ano_nascimento())\n",
    "print(p1.ano_atual)"
   ]
  },
  {
   "cell_type": "code",
   "execution_count": null,
   "metadata": {},
   "outputs": [],
   "source": [
    "# AULA 36\n",
    "p1 = Pessoa.por_ano_nascimento('Gabriel', 1998)\n",
    "print(p1.idade)"
   ]
  },
  {
   "cell_type": "code",
   "execution_count": null,
   "metadata": {},
   "outputs": [],
   "source": [
    "# AULA 37\n",
    "p1 = Pessoa('Gabriel', 24)\n",
    "print(Pessoa.gera_id())\n",
    "print(p1.gera_id())"
   ]
  },
  {
   "cell_type": "code",
   "execution_count": null,
   "metadata": {},
   "outputs": [],
   "source": [
    "# AULA 38\n",
    "p1 = Produto('CaMIsEtA', 50)\n",
    "p1.desconto(10)\n",
    "print(p1.nome, ' - ', p1.preco)\n",
    "\n",
    "p2 = Produto('CANeCa', 'R$15,98')\n",
    "p2.desconto(10)\n",
    "print(f'{p2.nome} - R${p2.preco:.2f}'.replace('.', ','))"
   ]
  },
  {
   "cell_type": "code",
   "execution_count": null,
   "metadata": {},
   "outputs": [],
   "source": [
    "# AULA 39\n",
    "obj_1 = Pessoa('Gabriel', 24)\n",
    "obj_2 = Pessoa('Vitoria', 25)\n",
    "\n",
    "print(obj_1.ano_atual)\n",
    "print(obj_2.ano_atual)\n",
    "print(Pessoa.ano_atual)\n",
    "\n",
    "obj_1.ano_atual = 2023\n",
    "obj_2.ano_atual = 2025\n",
    "\n",
    "print(obj_1.__dict__)\n",
    "print(obj_2.__dict__)\n",
    "print(Pessoa.__dict__)\n",
    "\n",
    "Pessoa.ano_atual = 2021\n",
    "\n",
    "print(obj_1.__dict__)\n",
    "print(obj_2.__dict__)\n",
    "print(Pessoa.__dict__)"
   ]
  },
  {
   "cell_type": "code",
   "execution_count": null,
   "metadata": {},
   "outputs": [],
   "source": [
    "# AULA 40\n",
    "bd = BaseDeDados()\n",
    "bd.inserir_cliente(1, 'Otavio')\n",
    "bd.inserir_cliente(2, 'Miranda')\n",
    "bd.inserir_cliente(3, 'Rose')\n",
    "bd.apaga_cliente(2)\n",
    "\n",
    "# Nao e possivel alterar o dicionario dados, pois ele esta privado\n",
    "bd.__dados = 'Outra coisa'  # O dicionario original nao foi alterado\n",
    "print(bd.__dados)  # Apenas foi criada nova variavel de nome __dados, independente\n",
    "\n",
    "bd.lista_clientes()\n",
    "\n",
    "# Para acessar o atributo privado (NAO USUAL)\n",
    "print(bd._BaseDeDados__dados)\n",
    "\n",
    "# Usando o getter para obter os dados do atributo privado\n",
    "print(bd.dados)  # Teremos o mesmo resuldado do _BaseDeDados__dados"
   ]
  },
  {
   "cell_type": "code",
   "execution_count": null,
   "metadata": {},
   "outputs": [],
   "source": [
    "# AULA 41\n",
    "escritor = Escritor('Joaozinho')\n",
    "print(escritor.nome)\n",
    "caneta = Caneta('BIC')\n",
    "print(caneta.marca)\n",
    "maquina = MaquinaDeEscrever()\n",
    "maquina.escrever()\n",
    "\n",
    "escritor.ferramenta = maquina\n",
    "escritor.ferramenta.escrever()\n",
    "\n",
    "del escritor\n",
    "maquina.escrever()\n",
    "caneta.escrever()"
   ]
  },
  {
   "cell_type": "code",
   "execution_count": null,
   "metadata": {},
   "outputs": [],
   "source": [
    "# AULA 42\n",
    "carrinho = CarrinhoDeCompras()\n",
    "\n",
    "p1 = Produto('Camiseta', 50)\n",
    "p2 = Produto('iPhone', 10000)\n",
    "p3 = Produto('Caneca', 15)\n",
    "\n",
    "carrinho.inserir_produto(p1)\n",
    "carrinho.inserir_produto(p2)\n",
    "carrinho.inserir_produto(p3)\n",
    "carrinho.inserir_produto(p1)\n",
    "carrinho.inserir_produto(p1)\n",
    "carrinho.inserir_produto(p2)\n",
    "carrinho.inserir_produto(p3)\n",
    "\n",
    "carrinho.lista_produto()\n",
    "print(carrinho.soma_total())"
   ]
  },
  {
   "cell_type": "code",
   "execution_count": null,
   "metadata": {},
   "outputs": [],
   "source": [
    "# AULA 43\n",
    "c1 = Cliente('Luiz', 32)\n",
    "c1.insere_endereco('Belo Horizonte', 'MG')\n",
    "print(f'{c1.nome}\\n', end=' ')\n",
    "c1.lista_enderecos()\n",
    "del c1\n",
    "print()\n",
    "\n",
    "c2 = Cliente('Maria', 55)\n",
    "c2.insere_endereco('Salvador', 'BA')\n",
    "c2.insere_endereco('Rio de Janeiro', 'RJ')\n",
    "print(f'{c2.nome}\\n', end=' ')\n",
    "c2.lista_enderecos()\n",
    "del c2\n",
    "print()\n",
    "\n",
    "c3 = Cliente('Joao', 19)\n",
    "c3.insere_endereco('Sao Paulo', 'SP')\n",
    "print(f'{c3.nome}\\n', end=' ')\n",
    "c3.lista_enderecos()\n",
    "del c3\n",
    "print()\n",
    "\n",
    "print('#' * 40)"
   ]
  },
  {
   "cell_type": "code",
   "execution_count": null,
   "metadata": {},
   "outputs": [],
   "source": [
    "# AULA 44\n",
    "c1 = Cliente('Luiz', 45)\n",
    "c1.falar('Good morning! Do you have tomatoes? I want 5...')\n",
    "c1.comprar('tomatoes')\n",
    "\n",
    "a1 = Aluno('Joao', 54)\n",
    "a1.falar(\"Professor, I didn't understand this sentence. Could you repeat, please?\")\n",
    "a1.estudar('English')\n",
    "\n",
    "p1 = Pessoa('Antonio', 35)\n",
    "p1.falar('Eu apenas posso falar, pois comprar e estudar sao metodos que apenas minhas filhas tem!')"
   ]
  },
  {
   "cell_type": "code",
   "execution_count": null,
   "metadata": {},
   "outputs": [],
   "source": [
    "# DATACLASSES\n",
    "if __name__ == '__main__':\n",
    "    joao1 = Pessoa('Joao', 'Silva', True, enderecos=['R1'])\n",
    "    joao2 = Pessoa('Joao', 'Silva', True, enderecos=['R2'])\n",
    "    print(joao1)\n",
    "    print(joao2)\n",
    "    print(joao1 == joao2)"
   ]
  },
  {
   "cell_type": "code",
   "execution_count": null,
   "metadata": {},
   "outputs": [],
   "source": [
    "# METACLASSES\n",
    "person1 = Person1('Luiz', 'Otavio')\n",
    "person2 = Person1('Maria', 'Oliveira')\n",
    "num = 123\n",
    "print(type(person1))\n",
    "print(type(Person1))\n",
    "print(type(num ))\n",
    "print(type(list))"
   ]
  }
 ],
 "metadata": {
  "kernelspec": {
   "display_name": "Python 3",
   "language": "python",
   "name": "python3"
  },
  "language_info": {
   "codemirror_mode": {
    "name": "ipython",
    "version": 3
   },
   "file_extension": ".py",
   "mimetype": "text/x-python",
   "name": "python",
   "nbconvert_exporter": "python",
   "pygments_lexer": "ipython3",
   "version": "3.11.0"
  },
  "orig_nbformat": 4,
  "vscode": {
   "interpreter": {
    "hash": "7e653313aa5c54a0675bb7f68a7b7b01def7211ef5659725a8367c74650dfa89"
   }
  }
 },
 "nbformat": 4,
 "nbformat_minor": 2
}
